{
 "cells": [
  {
   "cell_type": "code",
   "execution_count": 1,
   "metadata": {},
   "outputs": [
    {
     "name": "stdout",
     "output_type": "stream",
     "text": [
      "\tTwinkle, twinkle, little star,\n",
      "\t\t How I wonder what you are!\n",
      "\t\t\t Up above the world so high,\n",
      "\t\t\t Like a diamond in the sky.\n",
      "\tTwinkle, twinkle, little star,\n",
      "\t\t How I wonder what you are\n"
     ]
    }
   ],
   "source": [
    "print('''\\tTwinkle, twinkle, little star,\n",
    "\\t\\t How I wonder what you are!\n",
    "\\t\\t\\t Up above the world so high,\n",
    "\\t\\t\\t Like a diamond in the sky.\n",
    "\\tTwinkle, twinkle, little star,\n",
    "\\t\\t How I wonder what you are''')"
   ]
  },
  {
   "cell_type": "code",
   "execution_count": null,
   "metadata": {},
   "outputs": [],
   "source": []
  }
 ],
 "metadata": {
  "kernelspec": {
   "display_name": "Python 3",
   "language": "python",
   "name": "python3"
  },
  "language_info": {
   "codemirror_mode": {
    "name": "ipython",
    "version": 3
   },
   "file_extension": ".py",
   "mimetype": "text/x-python",
   "name": "python",
   "nbconvert_exporter": "python",
   "pygments_lexer": "ipython3",
   "version": "3.7.3"
  }
 },
 "nbformat": 4,
 "nbformat_minor": 2
}
